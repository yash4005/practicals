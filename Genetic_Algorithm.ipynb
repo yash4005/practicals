{
  "nbformat": 4,
  "nbformat_minor": 0,
  "metadata": {
    "colab": {
      "name": "Untitled2.ipynb",
      "provenance": [],
      "authorship_tag": "ABX9TyMRTTNdD73kl3yJ4s6GuGca",
      "include_colab_link": true
    },
    "kernelspec": {
      "name": "python3",
      "display_name": "Python 3"
    }
  },
  "cells": [
    {
      "cell_type": "markdown",
      "metadata": {
        "id": "view-in-github",
        "colab_type": "text"
      },
      "source": [
        "<a href=\"https://colab.research.google.com/github/yash4005/practicals/blob/main/Genetic_Algorithm.ipynb\" target=\"_parent\"><img src=\"https://colab.research.google.com/assets/colab-badge.svg\" alt=\"Open In Colab\"/></a>"
      ]
    },
    {
      "cell_type": "code",
      "metadata": {
        "id": "wYbUg1DGTn1Y"
      },
      "source": [
        "# Executed By Yash Solanke A64\n",
        "\n",
        "import numpy as np\n",
        "import pandas as pd\n"
      ],
      "execution_count": 20,
      "outputs": []
    },
    {
      "cell_type": "code",
      "metadata": {
        "id": "zawKNBqXPPIh"
      },
      "source": [
        "staff_planning = [\n",
        "    [[0, 0, 10],[1, 0, 10],[2, 0, 10],[3, 0, 10],[4, 0, 10],[5, 0, 10],[6, 0, 10],[7, 0, 10],[8, 0, 10],[9, 0, 10],[10, 0, 10]],\n",
        "    [[0, 0, 10],[1, 0, 10],[2, 0, 10],[3, 0, 10],[4, 0, 10],[5, 0, 10],[6, 0, 10],[7, 0, 10],[8, 0, 10],[9, 0, 10],[10, 0, 10]],\n",
        "    [[0, 0, 10],[1, 0, 10],[2, 0, 10],[3, 0, 10],[4, 0, 10],[5, 0, 10],[6, 0, 10],[7, 0, 10],[8, 0, 10],[9, 0, 10],[10, 0, 10]],\n",
        "    [[0, 0, 10],[1, 0, 10],[2, 0, 10],[3, 0, 10],[4, 0, 10],[5, 0, 10],[6, 0, 10],[7, 0, 10],[8, 0, 10],[9, 0, 10],[10, 0, 10]],\n",
        "    [[0, 0, 10],[1, 0, 10],[2, 0, 10],[3, 0, 10],[4, 0, 10],[5, 0, 10],[6, 0, 10],[7, 0, 10],[8, 0, 10],[9, 0, 10],[10, 0, 10]]\n",
        "]"
      ],
      "execution_count": 21,
      "outputs": []
    },
    {
      "cell_type": "code",
      "metadata": {
        "id": "BgOOUFKZPTdq"
      },
      "source": [
        "hourlystaff_needed = np.array([\n",
        "    [0, 0, 0, 0, 0, 0, 4, 4, 4, 2, 2, 2, 6, 6, 2, 2, 2, 6, 6, 6, 2, 2, 2, 2],\n",
        "    [0, 0, 0, 0, 0, 0, 4, 4, 4, 2, 2, 2, 6, 6, 2, 2, 2, 6, 6, 6, 2, 2, 2, 2],\n",
        "    [0, 0, 0, 0, 0, 0, 4, 4, 4, 2, 2, 2, 6, 6, 2, 2, 2, 6, 6, 6, 2, 2, 2, 2],\n",
        "    [0, 0, 0, 0, 0, 0, 4, 4, 4, 2, 2, 2, 6, 6, 2, 2, 2, 6, 6, 6, 2, 2, 2, 2],\n",
        "    [0, 0, 0, 0, 0, 0, 4, 4, 4, 2, 2, 2, 6, 6, 2, 2, 2, 6, 6, 6, 2, 2, 2, 2]\n",
        "])"
      ],
      "execution_count": 22,
      "outputs": []
    },
    {
      "cell_type": "code",
      "metadata": {
        "id": "grpc9OaUNC_k"
      },
      "source": [
        "\"\"\"\n",
        "Employee Present: analyse whether the employee is present yes or no on a given time\n",
        "Based on the employee list of 3 (id, start time, duration)\n",
        "\"\"\"\n",
        "def employee_present(employee, time):\n",
        "    employee_start_time = employee[1]\n",
        "    employee_duration = employee[2]\n",
        "    employee_end_time = employee_start_time + employee_duration\n",
        "    if (time >= employee_start_time) and (time < employee_end_time):\n",
        "        return True\n",
        "    return False"
      ],
      "execution_count": 23,
      "outputs": []
    },
    {
      "cell_type": "code",
      "metadata": {
        "id": "0iNsVUryPeXo"
      },
      "source": [
        "\"\"\"\n",
        "convert a staff planning to a staff-needed plannig\n",
        "The employee planning is organised per employee, the staff-needed planning is the number of employees working per hour\n",
        "The staff-needed planning is based on the employee planning and will allow to calculate the difference with the staff-needed\n",
        "It doesnt work overnight, but our shop isnt open at night anyway\n",
        "\"\"\"\n",
        "def staffplanning_to_hourlyplanning(staff_planning):\n",
        "    \n",
        "    hourlystaff_week = []\n",
        "    for day in staff_planning:\n",
        "        \n",
        "        hourlystaff_day = [] \n",
        "        for employee in day:\n",
        "            \n",
        "            employee_present_hour = []\n",
        "            for time in range(0, 24):\n",
        "                \n",
        "                employee_present_hour.append(employee_present(employee, time))\n",
        "                \n",
        "            hourlystaff_day.append(employee_present_hour)\n",
        "            \n",
        "        hourlystaff_week.append(hourlystaff_day)\n",
        "        \n",
        "    hourlystaff_week = np.array(hourlystaff_week).sum(axis = 1)  \n",
        "    return hourlystaff_week"
      ],
      "execution_count": 10,
      "outputs": []
    },
    {
      "cell_type": "code",
      "metadata": {
        "id": "8PHdvr7xPjpV"
      },
      "source": [
        "\"\"\"\n",
        "the cost is calculated as hours understaffed + hours overstaffed\n",
        "\"\"\"\n",
        "def cost(hourlystaff, hourlystaff_needed):\n",
        "    errors = hourlystaff - hourlystaff_needed\n",
        "    overstaff = abs(errors[errors > 0].sum())\n",
        "    understaff = abs(errors[errors < 0].sum())\n",
        "    \n",
        "    overstaff_cost = 1\n",
        "    understaff_cost = 1\n",
        "    \n",
        "    cost = overstaff_cost * overstaff + understaff_cost * understaff\n",
        "    return cost\n"
      ],
      "execution_count": 24,
      "outputs": []
    },
    {
      "cell_type": "markdown",
      "metadata": {
        "id": "-yiUVOo4PoWe"
      },
      "source": [
        "GENETIC CODE"
      ]
    },
    {
      "cell_type": "code",
      "metadata": {
        "id": "FrNPu8eZPqz6"
      },
      "source": [
        "\"\"\"\n",
        "generate an entirely random staff planning for a certain number of days\n",
        "start time is random between 0 and 23; duration is random between 0 and 10\n",
        "\"\"\"\n",
        "def generate_random_staff_planning(n_days, n_staff):\n",
        "    period_planning = []\n",
        "    for day in range(n_days):\n",
        "        day_planning = []\n",
        "        for employee_id in range(n_staff):\n",
        "            start_time = np.random.randint(0, 23)\n",
        "            duration = np.random.randint(0, 10)\n",
        "            employee = [employee_id, start_time, duration]\n",
        "            day_planning.append(employee)\n",
        "\n",
        "        period_planning.append(day_planning)\n",
        "            \n",
        "    return period_planning"
      ],
      "execution_count": 25,
      "outputs": []
    },
    {
      "cell_type": "code",
      "metadata": {
        "id": "QJYm2A9aPuut",
        "outputId": "e1c632e7-69d5-494d-f6b0-9036a392ef25",
        "colab": {
          "base_uri": "https://localhost:8080/",
          "height": 34
        }
      },
      "source": [
        "# An example of the code until here\n",
        "\n",
        "# show the random initialization of the week planning\n",
        "random_staff_planning = generate_random_staff_planning(n_days = 5, n_staff = 11)\n",
        "random_staff_planning\n",
        "\n",
        "# show the cost of this random week planning\n",
        "cost(staffplanning_to_hourlyplanning(random_staff_planning), hourlystaff_needed)"
      ],
      "execution_count": 26,
      "outputs": [
        {
          "output_type": "execute_result",
          "data": {
            "text/plain": [
              "192"
            ]
          },
          "metadata": {
            "tags": []
          },
          "execution_count": 26
        }
      ]
    },
    {
      "cell_type": "markdown",
      "metadata": {
        "id": "ESTe5kowP44e"
      },
      "source": [
        "Create Generation\n"
      ]
    },
    {
      "cell_type": "code",
      "metadata": {
        "id": "0gIYBuqgP6Gj"
      },
      "source": [
        "\"\"\"\n",
        "create a parent generation of n parent plannings\n",
        "\"\"\"\n",
        "def create_parent_generation(n_parents, n_days = 7, n_staff = 11):\n",
        "    parents = []\n",
        "    for i in range(n_parents):\n",
        "        parent = generate_random_staff_planning(n_days = n_days, n_staff = n_staff)\n",
        "        parents.append(parent)\n",
        "    return parents"
      ],
      "execution_count": 27,
      "outputs": []
    },
    {
      "cell_type": "markdown",
      "metadata": {
        "id": "5Ju2eCBLQAU5"
      },
      "source": [
        "Cross Over"
      ]
    },
    {
      "cell_type": "code",
      "metadata": {
        "id": "ameCpld1P9mB"
      },
      "source": [
        "\"\"\"\n",
        "for each iteration, select randomly two parents and make a random combination of those two parents\n",
        "by applying a randomly generated yes/no mask to the two selected parents\n",
        "\"\"\"\n",
        "def random_combine(parents, n_offspring):\n",
        "    n_parents = len(parents)\n",
        "    n_periods = len(parents[0])\n",
        "    n_employees = len(parents[0][0])\n",
        "    \n",
        "    offspring = []\n",
        "    for i in range(n_offspring):\n",
        "        random_dad = parents[np.random.randint(low = 0, high = n_parents - 1)]\n",
        "        random_mom = parents[np.random.randint(low = 0, high = n_parents - 1)]\n",
        "        \n",
        "        dad_mask = np.random.randint(0, 2, size = np.array(random_dad).shape)\n",
        "        mom_mask = np.logical_not(dad_mask)\n",
        "        \n",
        "        child = np.add(np.multiply(random_dad, dad_mask), np.multiply(random_mom, mom_mask))\n",
        "\n",
        "        offspring.append(child)\n",
        "    return offspring"
      ],
      "execution_count": 28,
      "outputs": []
    },
    {
      "cell_type": "markdown",
      "metadata": {
        "id": "Y5Xm_UanQR7S"
      },
      "source": [
        "Mutation"
      ]
    },
    {
      "cell_type": "code",
      "metadata": {
        "id": "DXhdg0iXQFZ1"
      },
      "source": [
        "def mutate_parent(parent, n_mutations):\n",
        "    size1 = parent.shape[0]\n",
        "    size2 = parent.shape[1]\n",
        "    \n",
        "    for i in range(n_mutations):\n",
        "\n",
        "        rand1 = np.random.randint(0, size1)\n",
        "        rand2 = np.random.randint(0, size2)\n",
        "        rand3 = np.random.randint(1, 2)\n",
        "\n",
        "        parent[rand1,rand2,rand3] = np.random.randint(0, 10)\n",
        "\n",
        "    return parent\n",
        "\n",
        "def mutate_gen(parent_gen, n_mutations):\n",
        "    mutated_parent_gen = []\n",
        "    for parent in parent_gen:\n",
        "        mutated_parent_gen.append(mutate_parent(parent, n_mutations))\n",
        "    return mutated_parent_gen"
      ],
      "execution_count": 29,
      "outputs": []
    },
    {
      "cell_type": "markdown",
      "metadata": {
        "id": "qJO2VgYvQYe8"
      },
      "source": [
        "Selection Feasiblity"
      ]
    },
    {
      "cell_type": "code",
      "metadata": {
        "id": "FwZ1S5bkQaKS"
      },
      "source": [
        "def is_acceptable(parent):\n",
        "    return np.logical_not((np.array(parent)[:,:,2:] > 10).any()) #work more than 10 hours is not ok\n",
        "\n",
        "def select_acceptable(parent_gen):\n",
        "    parent_gen = [parent for parent in parent_gen if is_acceptable(parent)]\n",
        "    return parent_gen\n"
      ],
      "execution_count": 31,
      "outputs": []
    },
    {
      "cell_type": "markdown",
      "metadata": {
        "id": "AsFikXo7Qct3"
      },
      "source": [
        "Selection - cost"
      ]
    },
    {
      "cell_type": "code",
      "metadata": {
        "id": "rzQw-2JwQfkh"
      },
      "source": [
        "def is_acceptable(parent):\n",
        "    return np.logical_not((np.array(parent)[:,:,2:] > 10).any()) #work more than 10 hours is not ok\n",
        "\n",
        "def select_acceptable(parent_gen):\n",
        "    parent_gen = [parent for parent in parent_gen if is_acceptable(parent)]\n",
        "    return parent_gen"
      ],
      "execution_count": 32,
      "outputs": []
    },
    {
      "cell_type": "code",
      "metadata": {
        "id": "GbCPjC_0QkuC"
      },
      "source": [
        "def select_best(parent_gen, hourlystaff_needed, n_best):\n",
        "    costs = []\n",
        "    for idx, parent_staff_planning in enumerate(parent_gen):\n",
        "        \n",
        "        parent_hourly_planning = staffplanning_to_hourlyplanning(parent_staff_planning)\n",
        "        parent_cost = cost(parent_hourly_planning, hourlystaff_needed)\n",
        "        costs.append([idx, parent_cost])\n",
        "    \n",
        "    print('generations best is: {}, generations worst is: {}'.format(pd.DataFrame(costs)[1].min(), pd.DataFrame(costs)[1].max()))\n",
        "    \n",
        "    costs_tmp = pd.DataFrame(costs).sort_values(by = 1, ascending = True).reset_index(drop=True)\n",
        "    selected_parents_idx = list(costs_tmp.iloc[:n_best,0])\n",
        "    selected_parents = [parent for idx, parent in enumerate(parent_gen) if idx in selected_parents_idx]\n",
        "    \n",
        "    return selected_parents"
      ],
      "execution_count": 33,
      "outputs": []
    },
    {
      "cell_type": "markdown",
      "metadata": {
        "id": "-vsC8_nGQitJ"
      },
      "source": [
        "Itration complete Algorithm"
      ]
    },
    {
      "cell_type": "code",
      "metadata": {
        "id": "ppWnqzmvQqH_"
      },
      "source": [
        "\"\"\"\n",
        "the overall function\n",
        "\"\"\"\n",
        "def gen_algo(hourlystaff_needed, n_iterations):   \n",
        "    \n",
        "    generation_size = 500\n",
        "    \n",
        "    parent_gen = create_parent_generation(n_parents = generation_size, n_days = 5, n_staff = 11)\n",
        "    for it in range(n_iterations):\n",
        "        parent_gen = select_acceptable(parent_gen)\n",
        "        parent_gen = select_best(parent_gen, hourlystaff_needed, n_best = 100)\n",
        "        parent_gen = random_combine(parent_gen, n_offspring = generation_size)\n",
        "        parent_gen = mutate_gen(parent_gen, n_mutations = 1)\n",
        "    \n",
        "    best_child = select_best(parent_gen, hourlystaff_needed, n_best = 1)\n",
        "    return best_child\n"
      ],
      "execution_count": 34,
      "outputs": []
    },
    {
      "cell_type": "code",
      "metadata": {
        "id": "zIn55oU1Q95n"
      },
      "source": [
        ""
      ],
      "execution_count": null,
      "outputs": []
    },
    {
      "cell_type": "markdown",
      "metadata": {
        "id": "hlUzwUbhQuP0"
      },
      "source": [
        "Execute All"
      ]
    },
    {
      "cell_type": "code",
      "metadata": {
        "id": "9YImIRIUQwWP",
        "outputId": "795fdee5-2599-4a24-f15d-2d30642ef488",
        "colab": {
          "base_uri": "https://localhost:8080/",
          "height": 1000
        }
      },
      "source": [
        "best_planning = gen_algo(hourlystaff_needed, n_iterations = 100)\n"
      ],
      "execution_count": 36,
      "outputs": [
        {
          "output_type": "stream",
          "text": [
            "generations best is: 166, generations worst is: 278\n",
            "generations best is: 164, generations worst is: 246\n",
            "generations best is: 155, generations worst is: 229\n",
            "generations best is: 152, generations worst is: 232\n",
            "generations best is: 137, generations worst is: 233\n",
            "generations best is: 133, generations worst is: 219\n",
            "generations best is: 136, generations worst is: 215\n",
            "generations best is: 134, generations worst is: 207\n",
            "generations best is: 132, generations worst is: 195\n",
            "generations best is: 127, generations worst is: 204\n",
            "generations best is: 125, generations worst is: 197\n",
            "generations best is: 117, generations worst is: 185\n",
            "generations best is: 114, generations worst is: 183\n",
            "generations best is: 115, generations worst is: 188\n",
            "generations best is: 114, generations worst is: 181\n",
            "generations best is: 107, generations worst is: 172\n",
            "generations best is: 105, generations worst is: 172\n",
            "generations best is: 99, generations worst is: 173\n",
            "generations best is: 95, generations worst is: 166\n",
            "generations best is: 98, generations worst is: 170\n",
            "generations best is: 99, generations worst is: 164\n",
            "generations best is: 91, generations worst is: 161\n",
            "generations best is: 85, generations worst is: 161\n",
            "generations best is: 85, generations worst is: 148\n",
            "generations best is: 88, generations worst is: 143\n",
            "generations best is: 86, generations worst is: 147\n",
            "generations best is: 84, generations worst is: 152\n",
            "generations best is: 87, generations worst is: 156\n",
            "generations best is: 85, generations worst is: 146\n",
            "generations best is: 81, generations worst is: 145\n",
            "generations best is: 82, generations worst is: 145\n",
            "generations best is: 72, generations worst is: 135\n",
            "generations best is: 77, generations worst is: 135\n",
            "generations best is: 76, generations worst is: 132\n",
            "generations best is: 75, generations worst is: 139\n",
            "generations best is: 66, generations worst is: 135\n",
            "generations best is: 67, generations worst is: 129\n",
            "generations best is: 66, generations worst is: 122\n",
            "generations best is: 64, generations worst is: 121\n",
            "generations best is: 64, generations worst is: 119\n",
            "generations best is: 62, generations worst is: 115\n",
            "generations best is: 62, generations worst is: 117\n",
            "generations best is: 62, generations worst is: 111\n",
            "generations best is: 60, generations worst is: 108\n",
            "generations best is: 59, generations worst is: 109\n",
            "generations best is: 52, generations worst is: 109\n",
            "generations best is: 53, generations worst is: 106\n",
            "generations best is: 53, generations worst is: 102\n",
            "generations best is: 50, generations worst is: 102\n",
            "generations best is: 52, generations worst is: 99\n",
            "generations best is: 50, generations worst is: 99\n",
            "generations best is: 51, generations worst is: 99\n",
            "generations best is: 49, generations worst is: 91\n",
            "generations best is: 48, generations worst is: 92\n",
            "generations best is: 46, generations worst is: 88\n",
            "generations best is: 44, generations worst is: 83\n",
            "generations best is: 45, generations worst is: 86\n",
            "generations best is: 44, generations worst is: 82\n",
            "generations best is: 43, generations worst is: 78\n",
            "generations best is: 41, generations worst is: 72\n",
            "generations best is: 42, generations worst is: 78\n",
            "generations best is: 39, generations worst is: 77\n",
            "generations best is: 39, generations worst is: 77\n",
            "generations best is: 40, generations worst is: 72\n",
            "generations best is: 39, generations worst is: 70\n",
            "generations best is: 38, generations worst is: 72\n",
            "generations best is: 37, generations worst is: 65\n",
            "generations best is: 34, generations worst is: 65\n",
            "generations best is: 36, generations worst is: 65\n",
            "generations best is: 36, generations worst is: 69\n",
            "generations best is: 34, generations worst is: 63\n",
            "generations best is: 34, generations worst is: 62\n",
            "generations best is: 36, generations worst is: 67\n",
            "generations best is: 34, generations worst is: 65\n",
            "generations best is: 34, generations worst is: 62\n",
            "generations best is: 34, generations worst is: 63\n",
            "generations best is: 36, generations worst is: 62\n",
            "generations best is: 34, generations worst is: 66\n",
            "generations best is: 34, generations worst is: 62\n",
            "generations best is: 34, generations worst is: 64\n",
            "generations best is: 34, generations worst is: 60\n",
            "generations best is: 34, generations worst is: 64\n",
            "generations best is: 34, generations worst is: 60\n",
            "generations best is: 34, generations worst is: 57\n",
            "generations best is: 34, generations worst is: 62\n",
            "generations best is: 34, generations worst is: 59\n",
            "generations best is: 34, generations worst is: 59\n",
            "generations best is: 34, generations worst is: 58\n",
            "generations best is: 34, generations worst is: 60\n",
            "generations best is: 34, generations worst is: 58\n",
            "generations best is: 34, generations worst is: 56\n",
            "generations best is: 34, generations worst is: 56\n",
            "generations best is: 34, generations worst is: 66\n",
            "generations best is: 34, generations worst is: 56\n",
            "generations best is: 34, generations worst is: 58\n",
            "generations best is: 34, generations worst is: 58\n",
            "generations best is: 34, generations worst is: 62\n",
            "generations best is: 34, generations worst is: 62\n",
            "generations best is: 34, generations worst is: 61\n",
            "generations best is: 34, generations worst is: 58\n",
            "generations best is: 34, generations worst is: 60\n"
          ],
          "name": "stdout"
        }
      ]
    }
  ]
}
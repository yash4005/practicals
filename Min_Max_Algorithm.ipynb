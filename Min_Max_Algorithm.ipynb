{
  "nbformat": 4,
  "nbformat_minor": 0,
  "metadata": {
    "colab": {
      "name": "Untitled3.ipynb",
      "provenance": [],
      "authorship_tag": "ABX9TyONsoDq5oeUk1hCCWKQiS5O",
      "include_colab_link": true
    },
    "kernelspec": {
      "name": "python3",
      "display_name": "Python 3"
    }
  },
  "cells": [
    {
      "cell_type": "markdown",
      "metadata": {
        "id": "view-in-github",
        "colab_type": "text"
      },
      "source": [
        "<a href=\"https://colab.research.google.com/github/yash4005/practicals/blob/main/Min_Max_Algorithm.ipynb\" target=\"_parent\"><img src=\"https://colab.research.google.com/assets/colab-badge.svg\" alt=\"Open In Colab\"/></a>"
      ]
    },
    {
      "cell_type": "code",
      "metadata": {
        "id": "k5XAf28USiQA",
        "outputId": "14e2c229-5eb1-4f21-c2a4-bd0c716df93c",
        "colab": {
          "base_uri": "https://localhost:8080/",
          "height": 34
        }
      },
      "source": [
        "# Executed Yash Solanke A64\n",
        "# maximum score that \n",
        "# maximizing player can get \n",
        "import math \n",
        "\n",
        "def minimax (curDepth, nodeIndex, \n",
        "\t\t\tmaxTurn, scores, \n",
        "\t\t\ttargetDepth): \n",
        "\n",
        "\t# base case : targetDepth reached \n",
        "\tif (curDepth == targetDepth): \n",
        "\t\treturn scores[nodeIndex] \n",
        "\t\n",
        "\tif (maxTurn): \n",
        "\t\treturn max(minimax(curDepth + 1, nodeIndex * 2, \n",
        "\t\t\t\t\tFalse, scores, targetDepth), \n",
        "\t\t\t\tminimax(curDepth + 1, nodeIndex * 2 + 1, \n",
        "\t\t\t\t\tFalse, scores, targetDepth)) \n",
        "\t\n",
        "\telse: \n",
        "\t\treturn min(minimax(curDepth + 1, nodeIndex * 2, \n",
        "\t\t\t\t\tTrue, scores, targetDepth), \n",
        "\t\t\t\tminimax(curDepth + 1, nodeIndex * 2 + 1, \n",
        "\t\t\t\t\tTrue, scores, targetDepth)) \n",
        "\t\n",
        "# Driver code \n",
        "scores = [3, 5, 2, 9, 12, 5, 23, 23] \n",
        "\n",
        "treeDepth = math.log(len(scores), 2) \n",
        "\n",
        "print(\"The optimal value is : \", end = \"\") \n",
        "print(minimax(0, 0, True, scores, treeDepth))\n"
      ],
      "execution_count": 1,
      "outputs": [
        {
          "output_type": "stream",
          "text": [
            "The optimal value is : 12\n"
          ],
          "name": "stdout"
        }
      ]
    }
  ]
}
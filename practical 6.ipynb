{
  "nbformat": 4,
  "nbformat_minor": 0,
  "metadata": {
    "colab": {
      "name": "Untitled4.ipynb",
      "provenance": [],
      "authorship_tag": "ABX9TyOg+iAEZYg8HRMzpFFGHsrI",
      "include_colab_link": true
    },
    "kernelspec": {
      "name": "python3",
      "display_name": "Python 3"
    }
  },
  "cells": [
    {
      "cell_type": "markdown",
      "metadata": {
        "id": "view-in-github",
        "colab_type": "text"
      },
      "source": [
        "<a href=\"https://colab.research.google.com/github/yash4005/practicals/blob/main/practical%206.ipynb\" target=\"_parent\"><img src=\"https://colab.research.google.com/assets/colab-badge.svg\" alt=\"Open In Colab\"/></a>"
      ]
    },
    {
      "cell_type": "code",
      "metadata": {
        "id": "5si9x-jrZbPu",
        "outputId": "6723e863-bce3-4dd1-90c5-5d5850cacaac",
        "colab": {
          "base_uri": "https://localhost:8080/"
        }
      },
      "source": [
        "#Executed By Yash Solanke A64\n",
        "\n",
        "\"\"\" Python3 program to solve N Queen Problem using \n",
        "backtracking \"\"\"\n",
        "N = 4\n",
        "\n",
        "\"\"\" ld is an array where its indices indicate row-col+N-1 \n",
        "(N-1) is for shifting the difference to store negative \n",
        "indices \"\"\"\n",
        "ld = [0] * 30\n",
        "\n",
        "\"\"\" rd is an array where its indices indicate row+col \n",
        "and used to check whether a queen can be placed on \n",
        "right diagonal or not\"\"\"\n",
        "rd = [0] * 30\n",
        "\n",
        "\"\"\"column array where its indices indicates column and \n",
        "used to check whether a queen can be placed in that \n",
        "\trow or not\"\"\"\n",
        "cl = [0] * 30\n",
        "\n",
        "\"\"\" A utility function to print solution \"\"\"\n",
        "def printSolution(board): \n",
        "\tfor i in range(N): \n",
        "\t\tfor j in range(N): \n",
        "\t\t\tprint(board[i][j], end = \" \") \n",
        "\t\tprint() \n",
        "\n",
        "\"\"\" A recursive utility function to solve N \n",
        "Queen problem \"\"\"\n",
        "def solveNQUtil(board, col): \n",
        "\t\n",
        "\t\"\"\" base case: If all queens are placed \n",
        "\t\tthen return True \"\"\"\n",
        "\tif (col >= N): \n",
        "\t\treturn True\n",
        "\t\t\n",
        "\t\"\"\" Consider this column and try placing \n",
        "\t\tthis queen in all rows one by one \"\"\"\n",
        "\tfor i in range(N): \n",
        "\t\t\n",
        "\t\t\"\"\" Check if the queen can be placed on board[i][col] \"\"\"\n",
        "\t\t\"\"\" A check if a queen can be placed on board[row][col]. \n",
        "\t\tWe just need to check ld[row-col+n-1] and rd[row+coln] \n",
        "\t\twhere ld and rd are for left and right diagonal respectively\"\"\"\n",
        "\t\tif ((ld[i - col + N - 1] != 1 and\n",
        "\t\t\trd[i + col] != 1) and cl[i] != 1): \n",
        "\t\t\t\t\n",
        "\t\t\t\"\"\" Place this queen in board[i][col] \"\"\"\n",
        "\t\t\tboard[i][col] = 1\n",
        "\t\t\tld[i - col + N - 1] = rd[i + col] = cl[i] = 1\n",
        "\t\t\t\n",
        "\t\t\t\"\"\" recur to place rest of the queens \"\"\"\n",
        "\t\t\tif (solveNQUtil(board, col + 1)): \n",
        "\t\t\t\treturn True\n",
        "\t\t\t\t\n",
        "\t\t\t\"\"\" If placing queen in board[i][col] \n",
        "\t\t\tdoesn't lead to a solution, \n",
        "\t\t\tthen remove queen from board[i][col] \"\"\"\n",
        "\t\t\tboard[i][col] = 0 # BACKTRACK \n",
        "\t\t\tld[i - col + N - 1] = rd[i + col] = cl[i] = 0\n",
        "\t\t\t\n",
        "\t\t\t\"\"\" If the queen cannot be placed in \n",
        "\t\t\tany row in this colum col then return False \"\"\"\n",
        "\treturn False\n",
        "\t\n",
        "\"\"\" This function solves the N Queen problem using \n",
        "Backtracking. It mainly uses solveNQUtil() to \n",
        "solve the problem. It returns False if queens \n",
        "cannot be placed, otherwise, return True and \n",
        "prints placement of queens in the form of 1s. \n",
        "Please note that there may be more than one \n",
        "solutions, this function prints one of the \n",
        "feasible solutions.\"\"\"\n",
        "def solveNQ(): \n",
        "\tboard = [[0, 0, 0, 0], \n",
        "\t\t\t[0, 0, 0, 0], \n",
        "\t\t\t[0, 0, 0, 0], \n",
        "\t\t\t[0, 0, 0, 0]] \n",
        "\tif (solveNQUtil(board, 0) == False): \n",
        "\t\tprintf(\"Solution does not exist\") \n",
        "\t\treturn False\n",
        "\tprintSolution(board) \n",
        "\treturn True\n",
        "\t\n",
        "# Driver Code\n",
        "print('Executed BY yash solanke A64')\n",
        "solveNQ() \n",
        "\n"
      ],
      "execution_count": 4,
      "outputs": [
        {
          "output_type": "stream",
          "text": [
            "Executed BY yash solanke A64\n",
            "0 0 1 0 \n",
            "1 0 0 0 \n",
            "0 0 0 1 \n",
            "0 1 0 0 \n"
          ],
          "name": "stdout"
        },
        {
          "output_type": "execute_result",
          "data": {
            "text/plain": [
              "True"
            ]
          },
          "metadata": {
            "tags": []
          },
          "execution_count": 4
        }
      ]
    }
  ]
}